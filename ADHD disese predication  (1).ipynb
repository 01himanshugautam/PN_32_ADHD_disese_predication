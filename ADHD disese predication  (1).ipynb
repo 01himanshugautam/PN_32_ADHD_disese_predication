{
 "cells": [
  {
   "cell_type": "markdown",
   "id": "1bd7437f",
   "metadata": {},
   "source": [
    "# ADHD Predicaion Using Logistic regresion,KNN,Navie Bayes "
   ]
  },
  {
   "cell_type": "code",
   "execution_count": 3,
   "id": "95e2f76d",
   "metadata": {},
   "outputs": [
    {
     "ename": "ModuleNotFoundError",
     "evalue": "No module named 'seaborn'",
     "output_type": "error",
     "traceback": [
      "\u001b[0;31m---------------------------------------------------------------------------\u001b[0m",
      "\u001b[0;31mModuleNotFoundError\u001b[0m                       Traceback (most recent call last)",
      "\u001b[1;32m/Users/himanshugautam/Projects/ADHD_disese_predication/ADHD disese predication  (1).ipynb Cell 2\u001b[0m in \u001b[0;36m<cell line: 3>\u001b[0;34m()\u001b[0m\n\u001b[1;32m      <a href='vscode-notebook-cell:/Users/himanshugautam/Projects/ADHD_disese_predication/ADHD%20disese%20predication%20%20%281%29.ipynb#ch0000001?line=0'>1</a>\u001b[0m \u001b[39mimport\u001b[39;00m \u001b[39mpandas\u001b[39;00m \u001b[39mas\u001b[39;00m \u001b[39mpd\u001b[39;00m\n\u001b[1;32m      <a href='vscode-notebook-cell:/Users/himanshugautam/Projects/ADHD_disese_predication/ADHD%20disese%20predication%20%20%281%29.ipynb#ch0000001?line=1'>2</a>\u001b[0m \u001b[39mimport\u001b[39;00m \u001b[39mnumpy\u001b[39;00m \u001b[39mas\u001b[39;00m \u001b[39mnp\u001b[39;00m\n\u001b[0;32m----> <a href='vscode-notebook-cell:/Users/himanshugautam/Projects/ADHD_disese_predication/ADHD%20disese%20predication%20%20%281%29.ipynb#ch0000001?line=2'>3</a>\u001b[0m \u001b[39mimport\u001b[39;00m \u001b[39mseaborn\u001b[39;00m \u001b[39mas\u001b[39;00m \u001b[39msns\u001b[39;00m\n\u001b[1;32m      <a href='vscode-notebook-cell:/Users/himanshugautam/Projects/ADHD_disese_predication/ADHD%20disese%20predication%20%20%281%29.ipynb#ch0000001?line=3'>4</a>\u001b[0m \u001b[39mimport\u001b[39;00m \u001b[39mmatplotlib\u001b[39;00m\u001b[39m.\u001b[39;00m\u001b[39mpyplot\u001b[39;00m \u001b[39mas\u001b[39;00m \u001b[39mplt\u001b[39;00m\n\u001b[1;32m      <a href='vscode-notebook-cell:/Users/himanshugautam/Projects/ADHD_disese_predication/ADHD%20disese%20predication%20%20%281%29.ipynb#ch0000001?line=4'>5</a>\u001b[0m get_ipython()\u001b[39m.\u001b[39mrun_line_magic(\u001b[39m'\u001b[39m\u001b[39mmatplotlib\u001b[39m\u001b[39m'\u001b[39m, \u001b[39m'\u001b[39m\u001b[39minline\u001b[39m\u001b[39m'\u001b[39m)\n",
      "\u001b[0;31mModuleNotFoundError\u001b[0m: No module named 'seaborn'"
     ]
    }
   ],
   "source": [
    "import pandas as pd\n",
    "import numpy as np\n",
    "import seaborn as sns\n",
    "import matplotlib.pyplot as plt\n",
    "%matplotlib inline\n",
    "import scipy.io\n",
    "import math \n",
    "import string\n",
    "from pathlib import Path\n",
    "import os\n",
    "import glob\n",
    "import mne\n",
    "\n",
    "from sklearn.preprocessing import StandardScaler\n",
    "from sklearn.metrics import mutual_info_score\n",
    "from sklearn.decomposition import PCA\n",
    "from sklearn.linear_model import LogisticRegression\n",
    "from sklearn.naive_bayes import BernoulliNB,GaussianNB\n",
    "from sklearn.neighbors import KNeighborsClassifier\n",
    "from sklearn.model_selection import train_test_split, KFold, StratifiedKFold, GridSearchCV\n",
    "from sklearn.metrics import mean_squared_error, classification_report, roc_curve, roc_auc_score, accuracy_score, log_loss, recall_score, precision_score, f1_score, plot_roc_curve\n",
    "\n",
    "import warnings\n",
    "warnings.filterwarnings(\"ignore\")"
   ]
  },
  {
   "cell_type": "code",
   "execution_count": null,
   "id": "6913dd82",
   "metadata": {},
   "outputs": [
    {
     "ename": "",
     "evalue": "",
     "output_type": "error",
     "traceback": [
      "\u001b[1;31mJupyter cannot be started. Error attempting to locate Jupyter: Running cells with 'Python 3.8.9 64-bit' requires notebook and jupyter package.\n",
      "Run the following command to install 'jupyter and notebook' into the Python environment. \n",
      "Command: 'python -m pip install jupyter notebook -U\n",
      "or\n",
      "conda install jupyter notebook -U'\n",
      "Click <a href='https://aka.ms/installJupyterForVSCode'>here</a> for more info."
     ]
    }
   ],
   "source": [
    "cd\\Users\\Dell\\Downloads"
   ]
  },
  {
   "cell_type": "code",
   "execution_count": null,
   "id": "4e92203e",
   "metadata": {},
   "outputs": [
    {
     "ename": "",
     "evalue": "",
     "output_type": "error",
     "traceback": [
      "\u001b[1;31mJupyter cannot be started. Error attempting to locate Jupyter: Running cells with 'Python 3.8.9 64-bit' requires notebook and jupyter package.\n",
      "Run the following command to install 'jupyter and notebook' into the Python environment. \n",
      "Command: 'python -m pip install jupyter notebook -U\n",
      "or\n",
      "conda install jupyter notebook -U'\n",
      "Click <a href='https://aka.ms/installJupyterForVSCode'>here</a> for more info."
     ]
    }
   ],
   "source": [
    "df=pd.read_csv(\"adhd.csv\")"
   ]
  },
  {
   "cell_type": "code",
   "execution_count": null,
   "id": "20a6e0e8",
   "metadata": {},
   "outputs": [],
   "source": []
  },
  {
   "cell_type": "code",
   "execution_count": null,
   "id": "777ac746",
   "metadata": {},
   "outputs": [
    {
     "ename": "",
     "evalue": "",
     "output_type": "error",
     "traceback": [
      "\u001b[1;31mJupyter cannot be started. Error attempting to locate Jupyter: Running cells with 'Python 3.8.9 64-bit' requires notebook and jupyter package.\n",
      "Run the following command to install 'jupyter and notebook' into the Python environment. \n",
      "Command: 'python -m pip install jupyter notebook -U\n",
      "or\n",
      "conda install jupyter notebook -U'\n",
      "Click <a href='https://aka.ms/installJupyterForVSCode'>here</a> for more info."
     ]
    }
   ],
   "source": [
    "adhd_df=df.drop(['Unnamed: 20'],axis=1)"
   ]
  },
  {
   "cell_type": "code",
   "execution_count": null,
   "id": "98974109",
   "metadata": {},
   "outputs": [
    {
     "ename": "",
     "evalue": "",
     "output_type": "error",
     "traceback": [
      "\u001b[1;31mJupyter cannot be started. Error attempting to locate Jupyter: Running cells with 'Python 3.8.9 64-bit' requires notebook and jupyter package.\n",
      "Run the following command to install 'jupyter and notebook' into the Python environment. \n",
      "Command: 'python -m pip install jupyter notebook -U\n",
      "or\n",
      "conda install jupyter notebook -U'\n",
      "Click <a href='https://aka.ms/installJupyterForVSCode'>here</a> for more info."
     ]
    }
   ],
   "source": [
    "adhd_df"
   ]
  },
  {
   "cell_type": "code",
   "execution_count": null,
   "id": "20d3095a",
   "metadata": {},
   "outputs": [
    {
     "ename": "",
     "evalue": "",
     "output_type": "error",
     "traceback": [
      "\u001b[1;31mJupyter cannot be started. Error attempting to locate Jupyter: Running cells with 'Python 3.8.9 64-bit' requires notebook and jupyter package.\n",
      "Run the following command to install 'jupyter and notebook' into the Python environment. \n",
      "Command: 'python -m pip install jupyter notebook -U\n",
      "or\n",
      "conda install jupyter notebook -U'\n",
      "Click <a href='https://aka.ms/installJupyterForVSCode'>here</a> for more info."
     ]
    }
   ],
   "source": [
    "control_df=pd.read_csv(\"adhdcontrol1.csv\")"
   ]
  },
  {
   "cell_type": "code",
   "execution_count": null,
   "id": "14018783",
   "metadata": {},
   "outputs": [
    {
     "ename": "",
     "evalue": "",
     "output_type": "error",
     "traceback": [
      "\u001b[1;31mJupyter cannot be started. Error attempting to locate Jupyter: Running cells with 'Python 3.8.9 64-bit' requires notebook and jupyter package.\n",
      "Run the following command to install 'jupyter and notebook' into the Python environment. \n",
      "Command: 'python -m pip install jupyter notebook -U\n",
      "or\n",
      "conda install jupyter notebook -U'\n",
      "Click <a href='https://aka.ms/installJupyterForVSCode'>here</a> for more info."
     ]
    }
   ],
   "source": [
    "control_df"
   ]
  },
  {
   "cell_type": "code",
   "execution_count": null,
   "id": "81c3799c",
   "metadata": {},
   "outputs": [
    {
     "ename": "",
     "evalue": "",
     "output_type": "error",
     "traceback": [
      "\u001b[1;31mJupyter cannot be started. Error attempting to locate Jupyter: Running cells with 'Python 3.8.9 64-bit' requires notebook and jupyter package.\n",
      "Run the following command to install 'jupyter and notebook' into the Python environment. \n",
      "Command: 'python -m pip install jupyter notebook -U\n",
      "or\n",
      "conda install jupyter notebook -U'\n",
      "Click <a href='https://aka.ms/installJupyterForVSCode'>here</a> for more info."
     ]
    }
   ],
   "source": [
    "df_combined = pd.concat([adhd_df, control_df])\n",
    "df_combined.reset_index(inplace = True)\n",
    "df_combined = df_combined.drop('index', axis = 1)\n",
    "df_combined"
   ]
  },
  {
   "cell_type": "markdown",
   "id": "dd2f28e3",
   "metadata": {},
   "source": [
    "### 1 -> corresponds to ADHD class \n",
    "###  0 -> corresponds to Control clas"
   ]
  },
  {
   "cell_type": "markdown",
   "id": "229487d8",
   "metadata": {},
   "source": [
    "# Principal Component Analysis"
   ]
  },
  {
   "cell_type": "code",
   "execution_count": null,
   "id": "575c311b",
   "metadata": {},
   "outputs": [
    {
     "ename": "",
     "evalue": "",
     "output_type": "error",
     "traceback": [
      "\u001b[1;31mJupyter cannot be started. Error attempting to locate Jupyter: Running cells with 'Python 3.8.9 64-bit' requires notebook and jupyter package.\n",
      "Run the following command to install 'jupyter and notebook' into the Python environment. \n",
      "Command: 'python -m pip install jupyter notebook -U\n",
      "or\n",
      "conda install jupyter notebook -U'\n",
      "Click <a href='https://aka.ms/installJupyterForVSCode'>here</a> for more info."
     ]
    }
   ],
   "source": [
    "X=df_combined.drop(['19'],axis=1)\n",
    "y=df_combined['19']"
   ]
  },
  {
   "cell_type": "code",
   "execution_count": null,
   "id": "d49b30f9",
   "metadata": {},
   "outputs": [
    {
     "ename": "",
     "evalue": "",
     "output_type": "error",
     "traceback": [
      "\u001b[1;31mJupyter cannot be started. Error attempting to locate Jupyter: Running cells with 'Python 3.8.9 64-bit' requires notebook and jupyter package.\n",
      "Run the following command to install 'jupyter and notebook' into the Python environment. \n",
      "Command: 'python -m pip install jupyter notebook -U\n",
      "or\n",
      "conda install jupyter notebook -U'\n",
      "Click <a href='https://aka.ms/installJupyterForVSCode'>here</a> for more info."
     ]
    }
   ],
   "source": [
    "pca=PCA(n_components=2)\n",
    "x_pca=pca.fit_transform(X)"
   ]
  },
  {
   "cell_type": "code",
   "execution_count": null,
   "id": "9250fed5",
   "metadata": {},
   "outputs": [
    {
     "ename": "",
     "evalue": "",
     "output_type": "error",
     "traceback": [
      "\u001b[1;31mJupyter cannot be started. Error attempting to locate Jupyter: Running cells with 'Python 3.8.9 64-bit' requires notebook and jupyter package.\n",
      "Run the following command to install 'jupyter and notebook' into the Python environment. \n",
      "Command: 'python -m pip install jupyter notebook -U\n",
      "or\n",
      "conda install jupyter notebook -U'\n",
      "Click <a href='https://aka.ms/installJupyterForVSCode'>here</a> for more info."
     ]
    }
   ],
   "source": [
    "x_pca.shape"
   ]
  },
  {
   "cell_type": "code",
   "execution_count": null,
   "id": "39bf85ab",
   "metadata": {},
   "outputs": [
    {
     "ename": "",
     "evalue": "",
     "output_type": "error",
     "traceback": [
      "\u001b[1;31mJupyter cannot be started. Error attempting to locate Jupyter: Running cells with 'Python 3.8.9 64-bit' requires notebook and jupyter package.\n",
      "Run the following command to install 'jupyter and notebook' into the Python environment. \n",
      "Command: 'python -m pip install jupyter notebook -U\n",
      "or\n",
      "conda install jupyter notebook -U'\n",
      "Click <a href='https://aka.ms/installJupyterForVSCode'>here</a> for more info."
     ]
    }
   ],
   "source": [
    "plt.figure(figsize=(5,5))\n",
    "plt.scatter(x_pca[:,0],x_pca[:,1],c=y,cmap='plasma')"
   ]
  },
  {
   "cell_type": "code",
   "execution_count": null,
   "id": "ff8a9633",
   "metadata": {},
   "outputs": [
    {
     "ename": "",
     "evalue": "",
     "output_type": "error",
     "traceback": [
      "\u001b[1;31mJupyter cannot be started. Error attempting to locate Jupyter: Running cells with 'Python 3.8.9 64-bit' requires notebook and jupyter package.\n",
      "Run the following command to install 'jupyter and notebook' into the Python environment. \n",
      "Command: 'python -m pip install jupyter notebook -U\n",
      "or\n",
      "conda install jupyter notebook -U'\n",
      "Click <a href='https://aka.ms/installJupyterForVSCode'>here</a> for more info."
     ]
    }
   ],
   "source": [
    "pca1 = PCA().fit(X)\n",
    "\n",
    "plt.rcParams[\"figure.figsize\"] = (12,6)\n",
    "\n",
    "fig, ax = plt.subplots()\n",
    "xi = np.arange(1, 20, step=1)\n",
    "y1 = np.cumsum(pca1.explained_variance_ratio_)\n",
    "\n",
    "plt.ylim(0.4,1.2)\n",
    "plt.plot(xi, y1, marker='o', linestyle='--', color='b')\n",
    "\n",
    "plt.xlabel('Number of Components')\n",
    "plt.xticks(np.arange(0, 20, step=1)) \n",
    "plt.ylabel('Cumulative variance (%)')\n",
    "plt.title('The number of components needed to explain variance')\n",
    "\n",
    "plt.axhline(y=0.95, color='r', linestyle='-')\n",
    "plt.text(0.5, 0.85, '95% cut-off threshold', color = 'red', fontsize=16)\n",
    "\n",
    "ax.grid(axis='x')\n",
    "plt.show()"
   ]
  },
  {
   "cell_type": "code",
   "execution_count": null,
   "id": "92ddeb4e",
   "metadata": {},
   "outputs": [
    {
     "ename": "",
     "evalue": "",
     "output_type": "error",
     "traceback": [
      "\u001b[1;31mJupyter cannot be started. Error attempting to locate Jupyter: Running cells with 'Python 3.8.9 64-bit' requires notebook and jupyter package.\n",
      "Run the following command to install 'jupyter and notebook' into the Python environment. \n",
      "Command: 'python -m pip install jupyter notebook -U\n",
      "or\n",
      "conda install jupyter notebook -U'\n",
      "Click <a href='https://aka.ms/installJupyterForVSCode'>here</a> for more info."
     ]
    }
   ],
   "source": [
    "pca1.explained_variance_ratio_"
   ]
  },
  {
   "cell_type": "code",
   "execution_count": null,
   "id": "e1e1a63d",
   "metadata": {},
   "outputs": [
    {
     "ename": "",
     "evalue": "",
     "output_type": "error",
     "traceback": [
      "\u001b[1;31mJupyter cannot be started. Error attempting to locate Jupyter: Running cells with 'Python 3.8.9 64-bit' requires notebook and jupyter package.\n",
      "Run the following command to install 'jupyter and notebook' into the Python environment. \n",
      "Command: 'python -m pip install jupyter notebook -U\n",
      "or\n",
      "conda install jupyter notebook -U'\n",
      "Click <a href='https://aka.ms/installJupyterForVSCode'>here</a> for more info."
     ]
    }
   ],
   "source": [
    "opt_pca=PCA(n_components=5)\n",
    "X_final_PCA=opt_pca.fit_transform(X)"
   ]
  },
  {
   "cell_type": "code",
   "execution_count": null,
   "id": "987a8e0d",
   "metadata": {},
   "outputs": [
    {
     "ename": "",
     "evalue": "",
     "output_type": "error",
     "traceback": [
      "\u001b[1;31mJupyter cannot be started. Error attempting to locate Jupyter: Running cells with 'Python 3.8.9 64-bit' requires notebook and jupyter package.\n",
      "Run the following command to install 'jupyter and notebook' into the Python environment. \n",
      "Command: 'python -m pip install jupyter notebook -U\n",
      "or\n",
      "conda install jupyter notebook -U'\n",
      "Click <a href='https://aka.ms/installJupyterForVSCode'>here</a> for more info."
     ]
    }
   ],
   "source": [
    "X_pca_df=pd.DataFrame(X_final_PCA,columns=['pca1','pca2','pca3','pca4','pca5'])"
   ]
  },
  {
   "cell_type": "code",
   "execution_count": null,
   "id": "7e1ab189",
   "metadata": {},
   "outputs": [
    {
     "ename": "",
     "evalue": "",
     "output_type": "error",
     "traceback": [
      "\u001b[1;31mJupyter cannot be started. Error attempting to locate Jupyter: Running cells with 'Python 3.8.9 64-bit' requires notebook and jupyter package.\n",
      "Run the following command to install 'jupyter and notebook' into the Python environment. \n",
      "Command: 'python -m pip install jupyter notebook -U\n",
      "or\n",
      "conda install jupyter notebook -U'\n",
      "Click <a href='https://aka.ms/installJupyterForVSCode'>here</a> for more info."
     ]
    }
   ],
   "source": [
    "X_pca_df"
   ]
  },
  {
   "cell_type": "code",
   "execution_count": null,
   "id": "18dc4641",
   "metadata": {},
   "outputs": [
    {
     "ename": "",
     "evalue": "",
     "output_type": "error",
     "traceback": [
      "\u001b[1;31mJupyter cannot be started. Error attempting to locate Jupyter: Running cells with 'Python 3.8.9 64-bit' requires notebook and jupyter package.\n",
      "Run the following command to install 'jupyter and notebook' into the Python environment. \n",
      "Command: 'python -m pip install jupyter notebook -U\n",
      "or\n",
      "conda install jupyter notebook -U'\n",
      "Click <a href='https://aka.ms/installJupyterForVSCode'>here</a> for more info."
     ]
    }
   ],
   "source": [
    "X_pca_df.shape"
   ]
  },
  {
   "cell_type": "markdown",
   "id": "856e99db",
   "metadata": {},
   "source": [
    "# Function for Accuray Matrix"
   ]
  },
  {
   "cell_type": "code",
   "execution_count": null,
   "id": "c2514539",
   "metadata": {},
   "outputs": [
    {
     "ename": "",
     "evalue": "",
     "output_type": "error",
     "traceback": [
      "\u001b[1;31mJupyter cannot be started. Error attempting to locate Jupyter: Running cells with 'Python 3.8.9 64-bit' requires notebook and jupyter package.\n",
      "Run the following command to install 'jupyter and notebook' into the Python environment. \n",
      "Command: 'python -m pip install jupyter notebook -U\n",
      "or\n",
      "conda install jupyter notebook -U'\n",
      "Click <a href='https://aka.ms/installJupyterForVSCode'>here</a> for more info."
     ]
    }
   ],
   "source": [
    "def plot_roc_curve(y_test,y_pred):\n",
    "    fpr, tpr, thresholds = roc_curve(y_test, y_pred)\n",
    "    roc_auc=roc_auc_score(y_test,y_pred)\n",
    "    plt.plot(fpr, tpr, 'b', label = 'AUC = %0.2f' % roc_auc)\n",
    "    plt.legend(loc = 'lower right')\n",
    "    plt.title(\"ROC curve\")\n",
    "    plt.plot([0, 1], [0, 1],'r--')\n",
    "    plt.xlim([0, 1])\n",
    "    plt.ylim([0, 1])\n",
    "    plt.ylabel('True Positive Rate')\n",
    "    plt.xlabel('False Positive Rate')\n",
    "    plt.show()"
   ]
  },
  {
   "cell_type": "code",
   "execution_count": null,
   "id": "90e61033",
   "metadata": {},
   "outputs": [
    {
     "ename": "",
     "evalue": "",
     "output_type": "error",
     "traceback": [
      "\u001b[1;31mJupyter cannot be started. Error attempting to locate Jupyter: Running cells with 'Python 3.8.9 64-bit' requires notebook and jupyter package.\n",
      "Run the following command to install 'jupyter and notebook' into the Python environment. \n",
      "Command: 'python -m pip install jupyter notebook -U\n",
      "or\n",
      "conda install jupyter notebook -U'\n",
      "Click <a href='https://aka.ms/installJupyterForVSCode'>here</a> for more info."
     ]
    }
   ],
   "source": [
    "def plot_confusion_matrix1(y_test,y_pred):\n",
    "    conf_matrix=[[0,0],[0,0]]\n",
    "    y_test1 = [x for x in y_test]\n",
    "    for i in range(0,len(y_test1)):\n",
    "        if y_test1[i] == 1 and y_pred[i] == 1: # true positive\n",
    "            conf_matrix[0][0] += 1\n",
    "        elif y_test1[i] == 1 and y_pred[i] == 0: # false negative\n",
    "            conf_matrix[0][1] += 1\n",
    "        elif y_test1[i] == 0 and y_pred[i] == 1: # false positive\n",
    "            conf_matrix[1][0] += 1\n",
    "        elif y_test1[i] == 0 and y_pred[i] == 0: # true negative\n",
    "            conf_matrix[1][1] += 1\n",
    "    fig, ax = plt.subplots(figsize=(5, 5))\n",
    "    ax.matshow(conf_matrix, cmap=plt.cm.Blues, alpha=0.3)\n",
    "    for i in range(2):\n",
    "        for j in range(2):\n",
    "            ax.text(x=j, y=i,s=conf_matrix[i][j], va='center', ha='center', size='xx-large')\n",
    "\n",
    "    plt.xlabel('Predictions', fontsize=18)\n",
    "    plt.ylabel('Actuals', fontsize=18)\n",
    "    plt.title('Confusion Matrix', fontsize=18)\n",
    "    plt.show()"
   ]
  },
  {
   "cell_type": "markdown",
   "id": "2d5d0543",
   "metadata": {},
   "source": [
    "# Building different ML algorithms"
   ]
  },
  {
   "cell_type": "markdown",
   "id": "3dedfdcd",
   "metadata": {},
   "source": [
    "# Logistic Regression"
   ]
  },
  {
   "cell_type": "code",
   "execution_count": null,
   "id": "7313779b",
   "metadata": {},
   "outputs": [
    {
     "ename": "",
     "evalue": "",
     "output_type": "error",
     "traceback": [
      "\u001b[1;31mJupyter cannot be started. Error attempting to locate Jupyter: Running cells with 'Python 3.8.9 64-bit' requires notebook and jupyter package.\n",
      "Run the following command to install 'jupyter and notebook' into the Python environment. \n",
      "Command: 'python -m pip install jupyter notebook -U\n",
      "or\n",
      "conda install jupyter notebook -U'\n",
      "Click <a href='https://aka.ms/installJupyterForVSCode'>here</a> for more info."
     ]
    }
   ],
   "source": [
    "max0 = 0\n",
    "y_pred_final_log = []\n",
    "y_test_final_log = []\n",
    "skf = StratifiedKFold(n_splits=2)\n",
    "skf.get_n_splits(X, y)\n",
    "\n",
    "for train_index,test_index in skf.split(X, y):\n",
    "    X_train_log,X_test_log = X.iloc[train_index], X.iloc[test_index]\n",
    "    y_train_log,y_test_log = y.iloc[train_index], y.iloc[test_index]\n",
    "    log = LogisticRegression()\n",
    "    penalty = ['l1', 'l2']\n",
    "    c = [0.1, 0.2, 0.003, 0.02, 0.005]\n",
    "    hyperparameters = dict(C=c,penalty=penalty)\n",
    "    clf_log = GridSearchCV(log, hyperparameters, cv=5, verbose=0)\n",
    "    best_model = clf_log.fit(X_train_log, y_train_log)\n",
    "    print(\"**************************************************************\")\n",
    "    print('Best Parameters',clf_log.best_params_)\n",
    "    print('Best Penalty:', best_model.best_estimator_.get_params()['penalty'])\n",
    "    print('Best C:', best_model.best_estimator_.get_params()['C'])\n",
    "    y_pred_log = clf_log.predict(X_test_log)\n",
    "    print(\"Accuracy Score: \", accuracy_score(y_test_log, y_pred_log))\n",
    "    if accuracy_score(y_test_log, y_pred_log) > max0:\n",
    "        max0 = accuracy_score(y_test_log, y_pred_log)\n",
    "        y_test_final_log = list(y_test_log)\n",
    "        y_pred_final_log = list(y_pred_log)\n",
    "        X_test_final_log = list(X_test_log)"
   ]
  },
  {
   "cell_type": "code",
   "execution_count": null,
   "id": "cc0e6540",
   "metadata": {},
   "outputs": [
    {
     "ename": "",
     "evalue": "",
     "output_type": "error",
     "traceback": [
      "\u001b[1;31mJupyter cannot be started. Error attempting to locate Jupyter: Running cells with 'Python 3.8.9 64-bit' requires notebook and jupyter package.\n",
      "Run the following command to install 'jupyter and notebook' into the Python environment. \n",
      "Command: 'python -m pip install jupyter notebook -U\n",
      "or\n",
      "conda install jupyter notebook -U'\n",
      "Click <a href='https://aka.ms/installJupyterForVSCode'>here</a> for more info."
     ]
    }
   ],
   "source": [
    "print(\"Accuracy for Logistic model: \", accuracy_score(y_test_final_log, y_pred_final_log))\n",
    "print(\"Precision for Logistic model: \", precision_score(y_test_final_log, y_pred_final_log))\n",
    "print(\"Recall for Logistic model: \", recall_score(y_test_final_log, y_pred_final_log))\n",
    "print(\"F1 Score for Logistic model: \", f1_score(y_test_final_log, y_pred_final_log))\n",
    "print(\"Classification Report: \\n\", classification_report(y_test_final_log, y_pred_final_log))\n",
    "print(\"ROC: \",roc_curve(y_test_final_log, y_pred_final_log))\n",
    "print(\"Area Under the curve: \", roc_auc_score(y_test_final_log, y_pred_final_log))"
   ]
  },
  {
   "cell_type": "code",
   "execution_count": null,
   "id": "244fcc63",
   "metadata": {},
   "outputs": [
    {
     "ename": "",
     "evalue": "",
     "output_type": "error",
     "traceback": [
      "\u001b[1;31mJupyter cannot be started. Error attempting to locate Jupyter: Running cells with 'Python 3.8.9 64-bit' requires notebook and jupyter package.\n",
      "Run the following command to install 'jupyter and notebook' into the Python environment. \n",
      "Command: 'python -m pip install jupyter notebook -U\n",
      "or\n",
      "conda install jupyter notebook -U'\n",
      "Click <a href='https://aka.ms/installJupyterForVSCode'>here</a> for more info."
     ]
    }
   ],
   "source": [
    "#plot_roc_curve(y_test_final_log,y_pred_final_log)"
   ]
  },
  {
   "cell_type": "code",
   "execution_count": null,
   "id": "19f65157",
   "metadata": {},
   "outputs": [
    {
     "ename": "",
     "evalue": "",
     "output_type": "error",
     "traceback": [
      "\u001b[1;31mJupyter cannot be started. Error attempting to locate Jupyter: Running cells with 'Python 3.8.9 64-bit' requires notebook and jupyter package.\n",
      "Run the following command to install 'jupyter and notebook' into the Python environment. \n",
      "Command: 'python -m pip install jupyter notebook -U\n",
      "or\n",
      "conda install jupyter notebook -U'\n",
      "Click <a href='https://aka.ms/installJupyterForVSCode'>here</a> for more info."
     ]
    }
   ],
   "source": [
    "#plot_confusion_matrix1(y_test_final_log,y_pred_final_log)"
   ]
  },
  {
   "cell_type": "markdown",
   "id": "e9af0e43",
   "metadata": {},
   "source": [
    "# KNN"
   ]
  },
  {
   "cell_type": "code",
   "execution_count": null,
   "id": "1348ca8b",
   "metadata": {},
   "outputs": [
    {
     "ename": "",
     "evalue": "",
     "output_type": "error",
     "traceback": [
      "\u001b[1;31mJupyter cannot be started. Error attempting to locate Jupyter: Running cells with 'Python 3.8.9 64-bit' requires notebook and jupyter package.\n",
      "Run the following command to install 'jupyter and notebook' into the Python environment. \n",
      "Command: 'python -m pip install jupyter notebook -U\n",
      "or\n",
      "conda install jupyter notebook -U'\n",
      "Click <a href='https://aka.ms/installJupyterForVSCode'>here</a> for more info."
     ]
    }
   ],
   "source": [
    "max0 = 0\n",
    "y_pred_final_knn = []\n",
    "y_test_final_knn = []\n",
    "for train_index,test_index in skf.split(X, y):\n",
    "    X_train_knn,X_test_knn = X.iloc[train_index], X.iloc[test_index]\n",
    "    y_train_knn,y_test_knn = y.iloc[train_index], y.iloc[test_index]\n",
    "    knn = KNeighborsClassifier()\n",
    "    hyperparameters = {'n_neighbors': [2,3,4,5,6],'p':[1,2,3]}\n",
    "    clf_knn = GridSearchCV(knn, hyperparameters,cv=5, verbose=0)\n",
    "    best_model = clf_knn.fit(X_train_knn, y_train_knn)\n",
    "    print(\"**************************************************************\")\n",
    "    print('Best Parameters',clf_knn.best_params_)\n",
    "    print('Best Number of neighbors :', best_model.best_estimator_.get_params()['n_neighbors'])\n",
    "    print('Best p :', best_model.best_estimator_.get_params()['p'])\n",
    "    y_pred_knn = clf_knn.predict(X_test_knn)\n",
    "    print(\"Accuracy Score: \", accuracy_score(y_test_knn, y_pred_knn))\n",
    "    if accuracy_score(y_test_knn, y_pred_knn) > max0:\n",
    "        max0 = accuracy_score(y_test_knn, y_pred_knn)\n",
    "        y_test_final_knn = list(y_test_knn)\n",
    "        y_pred_final_knn = list(y_pred_knn)\n",
    "        X_test_final_knn = list(X_test_knn)"
   ]
  },
  {
   "cell_type": "code",
   "execution_count": null,
   "id": "419ef235",
   "metadata": {},
   "outputs": [
    {
     "ename": "",
     "evalue": "",
     "output_type": "error",
     "traceback": [
      "\u001b[1;31mJupyter cannot be started. Error attempting to locate Jupyter: Running cells with 'Python 3.8.9 64-bit' requires notebook and jupyter package.\n",
      "Run the following command to install 'jupyter and notebook' into the Python environment. \n",
      "Command: 'python -m pip install jupyter notebook -U\n",
      "or\n",
      "conda install jupyter notebook -U'\n",
      "Click <a href='https://aka.ms/installJupyterForVSCode'>here</a> for more info."
     ]
    }
   ],
   "source": [
    "print(\"Accuracy for KNN model: \", accuracy_score(y_test_final_knn, y_pred_final_knn))\n",
    "print(\"Precision for KNN model: \", precision_score(y_test_final_knn, y_pred_final_knn))\n",
    "print(\"Recall for KNN model: \", recall_score(y_test_final_knn, y_pred_final_knn))\n",
    "print(\"F1 Score for KNN model: \", f1_score(y_test_final_knn, y_pred_final_knn))\n",
    "print(\"Classification Report: \\n\", classification_report(y_test_final_knn, y_pred_final_knn))\n",
    "print(\"ROC: \",roc_curve(y_test_final_knn, y_pred_final_knn))\n",
    "print(\"Area Under the curve: \", roc_auc_score(y_test_final_knn, y_pred_final_knn))"
   ]
  },
  {
   "cell_type": "code",
   "execution_count": null,
   "id": "8ee9a3ea",
   "metadata": {},
   "outputs": [
    {
     "ename": "",
     "evalue": "",
     "output_type": "error",
     "traceback": [
      "\u001b[1;31mJupyter cannot be started. Error attempting to locate Jupyter: Running cells with 'Python 3.8.9 64-bit' requires notebook and jupyter package.\n",
      "Run the following command to install 'jupyter and notebook' into the Python environment. \n",
      "Command: 'python -m pip install jupyter notebook -U\n",
      "or\n",
      "conda install jupyter notebook -U'\n",
      "Click <a href='https://aka.ms/installJupyterForVSCode'>here</a> for more info."
     ]
    }
   ],
   "source": [
    "#plot_roc_curve(y_test_final_knn, y_pred_final_knn)"
   ]
  },
  {
   "cell_type": "code",
   "execution_count": null,
   "id": "692856f1",
   "metadata": {},
   "outputs": [
    {
     "ename": "",
     "evalue": "",
     "output_type": "error",
     "traceback": [
      "\u001b[1;31mJupyter cannot be started. Error attempting to locate Jupyter: Running cells with 'Python 3.8.9 64-bit' requires notebook and jupyter package.\n",
      "Run the following command to install 'jupyter and notebook' into the Python environment. \n",
      "Command: 'python -m pip install jupyter notebook -U\n",
      "or\n",
      "conda install jupyter notebook -U'\n",
      "Click <a href='https://aka.ms/installJupyterForVSCode'>here</a> for more info."
     ]
    }
   ],
   "source": [
    "#plot_confusion_matrix1(y_test_final_knn, y_pred_final_knn)"
   ]
  },
  {
   "cell_type": "markdown",
   "id": "0e397cf7",
   "metadata": {},
   "source": [
    "# Naive Bayes"
   ]
  },
  {
   "cell_type": "markdown",
   "id": "384dae6e",
   "metadata": {},
   "source": [
    "### Bernoulli Naive Bayes"
   ]
  },
  {
   "cell_type": "code",
   "execution_count": null,
   "id": "bc7ce451",
   "metadata": {},
   "outputs": [
    {
     "ename": "",
     "evalue": "",
     "output_type": "error",
     "traceback": [
      "\u001b[1;31mJupyter cannot be started. Error attempting to locate Jupyter: Running cells with 'Python 3.8.9 64-bit' requires notebook and jupyter package.\n",
      "Run the following command to install 'jupyter and notebook' into the Python environment. \n",
      "Command: 'python -m pip install jupyter notebook -U\n",
      "or\n",
      "conda install jupyter notebook -U'\n",
      "Click <a href='https://aka.ms/installJupyterForVSCode'>here</a> for more info."
     ]
    }
   ],
   "source": [
    "max0 = 0\n",
    "y_pred_final_bnb = []\n",
    "y_test_final_bnb = []\n",
    "for train_index,test_index in skf.split(X, y):\n",
    "    X_train_bnb,X_test_bnb = X.iloc[train_index], X.iloc[test_index]\n",
    "    y_train_bnb,y_test_bnb = y.iloc[train_index], y.iloc[test_index]\n",
    "    bnb = BernoulliNB()\n",
    "    hyperparameters = {'alpha':[10,20,30,40]}\n",
    "    clf_bnb = GridSearchCV(bnb, hyperparameters, cv=5, verbose=0)\n",
    "    best_model = clf_bnb.fit(X_train_bnb, y_train_bnb)\n",
    "    print(\"**************************************************************\")\n",
    "    print('Best Parameters',clf_bnb.best_params_)\n",
    "    print('Best Alpha:', best_model.best_estimator_.get_params()['alpha'])\n",
    "    y_pred_bnb = clf_bnb.predict(X_test_bnb)\n",
    "    print(\"Accuracy Score: \", accuracy_score(y_test_bnb, y_pred_bnb))\n",
    "    if accuracy_score(y_test_bnb, y_pred_bnb) > max0:\n",
    "        max0 = accuracy_score(y_test_bnb, y_pred_bnb)\n",
    "        y_test_final_bnb = list(y_test_bnb)\n",
    "        y_pred_final_bnb = list(y_pred_bnb)\n",
    "        X_test_final_bnb = list(X_test_bnb)"
   ]
  },
  {
   "cell_type": "code",
   "execution_count": null,
   "id": "f35e183d",
   "metadata": {},
   "outputs": [
    {
     "ename": "",
     "evalue": "",
     "output_type": "error",
     "traceback": [
      "\u001b[1;31mJupyter cannot be started. Error attempting to locate Jupyter: Running cells with 'Python 3.8.9 64-bit' requires notebook and jupyter package.\n",
      "Run the following command to install 'jupyter and notebook' into the Python environment. \n",
      "Command: 'python -m pip install jupyter notebook -U\n",
      "or\n",
      "conda install jupyter notebook -U'\n",
      "Click <a href='https://aka.ms/installJupyterForVSCode'>here</a> for more info."
     ]
    }
   ],
   "source": [
    "print(\"Accuracy for Bernoulli Naive Bayes model: \", accuracy_score(y_test_final_bnb, y_pred_final_bnb))\n",
    "print(\"Precision for Bernoulli Naive Bayes model: \", precision_score(y_test_final_bnb, y_pred_final_bnb))\n",
    "print(\"Recall for Bernoulli Naive Bayes model: \", recall_score(y_test_final_bnb, y_pred_final_bnb))\n",
    "print(\"F1 Score for Bernoulli Naive Bayes model: \", f1_score(y_test_final_bnb, y_pred_final_bnb))\n",
    "print(\"Classification Report: \\n\", classification_report(y_test_final_bnb, y_pred_final_bnb))\n",
    "print(\"ROC: \",roc_curve(y_test_final_bnb, y_pred_final_bnb))\n",
    "print(\"Area Under the curve: \", roc_auc_score(y_test_final_bnb, y_pred_final_bnb))"
   ]
  },
  {
   "cell_type": "code",
   "execution_count": null,
   "id": "e7eedf7a",
   "metadata": {},
   "outputs": [
    {
     "ename": "",
     "evalue": "",
     "output_type": "error",
     "traceback": [
      "\u001b[1;31mJupyter cannot be started. Error attempting to locate Jupyter: Running cells with 'Python 3.8.9 64-bit' requires notebook and jupyter package.\n",
      "Run the following command to install 'jupyter and notebook' into the Python environment. \n",
      "Command: 'python -m pip install jupyter notebook -U\n",
      "or\n",
      "conda install jupyter notebook -U'\n",
      "Click <a href='https://aka.ms/installJupyterForVSCode'>here</a> for more info."
     ]
    }
   ],
   "source": [
    "#plot_roc_curve(y_test_final_bnb, y_pred_final_bnb)"
   ]
  },
  {
   "cell_type": "code",
   "execution_count": null,
   "id": "8630c070",
   "metadata": {},
   "outputs": [
    {
     "ename": "",
     "evalue": "",
     "output_type": "error",
     "traceback": [
      "\u001b[1;31mJupyter cannot be started. Error attempting to locate Jupyter: Running cells with 'Python 3.8.9 64-bit' requires notebook and jupyter package.\n",
      "Run the following command to install 'jupyter and notebook' into the Python environment. \n",
      "Command: 'python -m pip install jupyter notebook -U\n",
      "or\n",
      "conda install jupyter notebook -U'\n",
      "Click <a href='https://aka.ms/installJupyterForVSCode'>here</a> for more info."
     ]
    }
   ],
   "source": [
    "#plot_confusion_matrix1(y_test_final_bnb, y_pred_final_bnb)"
   ]
  },
  {
   "cell_type": "markdown",
   "id": "8ddb39df",
   "metadata": {},
   "source": [
    "### Gaussian Naive Bayes"
   ]
  },
  {
   "cell_type": "code",
   "execution_count": null,
   "id": "404caeb7",
   "metadata": {},
   "outputs": [
    {
     "ename": "",
     "evalue": "",
     "output_type": "error",
     "traceback": [
      "\u001b[1;31mJupyter cannot be started. Error attempting to locate Jupyter: Running cells with 'Python 3.8.9 64-bit' requires notebook and jupyter package.\n",
      "Run the following command to install 'jupyter and notebook' into the Python environment. \n",
      "Command: 'python -m pip install jupyter notebook -U\n",
      "or\n",
      "conda install jupyter notebook -U'\n",
      "Click <a href='https://aka.ms/installJupyterForVSCode'>here</a> for more info."
     ]
    }
   ],
   "source": [
    "max0 = 0\n",
    "y_pred_final_gnb = []\n",
    "y_test_final_gnb = []\n",
    "for train_index,test_index in skf.split(X, y):\n",
    "    X_train_gnb,X_test_gnb = X.iloc[train_index], X.iloc[test_index]\n",
    "    y_train_gnb,y_test_gnb = y.iloc[train_index], y.iloc[test_index]\n",
    "    gnb = GaussianNB()\n",
    "    hyperparameters = {'var_smoothing': [0.1, 0.02, 0.004, 0.005, 0.8]}\n",
    "    clf_gnb = GridSearchCV(gnb, hyperparameters,cv=5, verbose=0)\n",
    "    best_model = clf_gnb.fit(X_train_gnb, y_train_gnb)\n",
    "    print(\"**************************************************************\")\n",
    "    print('Best Parameters',clf_gnb.best_params_)\n",
    "    print('Best Variance smoothing:', best_model.best_estimator_.get_params()['var_smoothing'])\n",
    "    y_pred_gnb = clf_gnb.predict(X_test_gnb)\n",
    "    print(\"Accuracy Score: \", accuracy_score(y_test_gnb, y_pred_gnb))\n",
    "    if accuracy_score(y_test_gnb, y_pred_gnb) > max0:\n",
    "        max0 = accuracy_score(y_test_gnb, y_pred_gnb)\n",
    "        y_test_final_gnb = list(y_test_gnb)\n",
    "        y_pred_final_gnb = list(y_pred_gnb)\n",
    "        X_test_final_gnb = list(X_test_gnb)"
   ]
  },
  {
   "cell_type": "code",
   "execution_count": null,
   "id": "42475d82",
   "metadata": {},
   "outputs": [
    {
     "ename": "",
     "evalue": "",
     "output_type": "error",
     "traceback": [
      "\u001b[1;31mJupyter cannot be started. Error attempting to locate Jupyter: Running cells with 'Python 3.8.9 64-bit' requires notebook and jupyter package.\n",
      "Run the following command to install 'jupyter and notebook' into the Python environment. \n",
      "Command: 'python -m pip install jupyter notebook -U\n",
      "or\n",
      "conda install jupyter notebook -U'\n",
      "Click <a href='https://aka.ms/installJupyterForVSCode'>here</a> for more info."
     ]
    }
   ],
   "source": [
    "print(\"Accuracy for Gaussian Naive Bayes model: \", accuracy_score(y_test_final_gnb, y_pred_final_gnb))\n",
    "print(\"Precision for Gaussian Naive Bayes model: \", precision_score(y_test_final_gnb, y_pred_final_gnb))\n",
    "print(\"Recall for Gaussian Naive Bayes model: \", recall_score(y_test_final_gnb, y_pred_final_gnb))\n",
    "print(\"F1 Score for Gaussian Naive Bayes model: \", f1_score(y_test_final_gnb, y_pred_final_gnb))\n",
    "print(\"Classification Report: \\n\", classification_report(y_test_final_gnb, y_pred_final_gnb))\n",
    "print(\"ROC: \",roc_curve(y_test_final_gnb, y_pred_final_gnb))\n",
    "print(\"Area Under the curve: \", roc_auc_score(y_test_final_gnb, y_pred_final_gnb))"
   ]
  },
  {
   "cell_type": "code",
   "execution_count": null,
   "id": "6550a70d",
   "metadata": {},
   "outputs": [
    {
     "ename": "",
     "evalue": "",
     "output_type": "error",
     "traceback": [
      "\u001b[1;31mJupyter cannot be started. Error attempting to locate Jupyter: Running cells with 'Python 3.8.9 64-bit' requires notebook and jupyter package.\n",
      "Run the following command to install 'jupyter and notebook' into the Python environment. \n",
      "Command: 'python -m pip install jupyter notebook -U\n",
      "or\n",
      "conda install jupyter notebook -U'\n",
      "Click <a href='https://aka.ms/installJupyterForVSCode'>here</a> for more info."
     ]
    }
   ],
   "source": [
    "#plot_roc_curve(y_test_final_gnb, y_pred_final_gnb)"
   ]
  },
  {
   "cell_type": "code",
   "execution_count": null,
   "id": "a67de3bc",
   "metadata": {},
   "outputs": [
    {
     "ename": "",
     "evalue": "",
     "output_type": "error",
     "traceback": [
      "\u001b[1;31mJupyter cannot be started. Error attempting to locate Jupyter: Running cells with 'Python 3.8.9 64-bit' requires notebook and jupyter package.\n",
      "Run the following command to install 'jupyter and notebook' into the Python environment. \n",
      "Command: 'python -m pip install jupyter notebook -U\n",
      "or\n",
      "conda install jupyter notebook -U'\n",
      "Click <a href='https://aka.ms/installJupyterForVSCode'>here</a> for more info."
     ]
    }
   ],
   "source": [
    "#plot_confusion_matrix1(y_test_final_gnb, y_pred_final_gnb)"
   ]
  },
  {
   "cell_type": "markdown",
   "id": "d26ee5f1",
   "metadata": {},
   "source": [
    "# Conclusion"
   ]
  },
  {
   "cell_type": "markdown",
   "id": "073e8f08",
   "metadata": {},
   "source": [
    "ADHD dataset was considred for this assignment. This dataset consists of two classes ADHD and Control where ADHD means the person is affected with Attention deficit hyperactivity disorder and control means the person is normal.\n",
    "Each class had mat files where one mat file represents one persons eeg data.These mat files were converted to csv files.Then each csv file which was a 2d matrix which was converted to a vector with average mutual information of every feature which was calculated feature wise.\n",
    "The labels were also added to these vectors were:-\n",
    "1 -> ADHD class\n",
    "0 -> Control class\n",
    "By finding the minimum mutual information for each feature topoplot was plotted for both the classes.\n",
    "PCA was performed on the dataset which had 121 rows and 20 columns. The dataset was reduced to a 2 dimensions and was plotted to check if it was linearly separable.The data was not linearly separable.\n",
    "Then with the help of plotted with explained variance ratio and number of features the optimum number of features for PCA was found. Therefore, for ADHD dataset we require atleast 5 features in order to perform PCA.\n",
    "Finally the dataset was tested against various machine learning models along with gridsearchcv for hyperparameter tuning. For each model the best results are summarised below :-\n",
    "\n",
    "1.) Logistic Regression with accuracy 45.7%.  \n",
    "\n",
    "2.) KNN with accuracy 67.2%.  \n",
    "\n",
    "\n",
    "3.) Naive Bayes. \n",
    "\n",
    "    a. Benolli Naive Bayes with accuracy 51%. \n",
    "    b. Gaussian Naive Bayes with accuracy 49%. \n"
   ]
  },
  {
   "cell_type": "code",
   "execution_count": null,
   "id": "d4b31360",
   "metadata": {},
   "outputs": [
    {
     "ename": "",
     "evalue": "",
     "output_type": "error",
     "traceback": [
      "\u001b[1;31mJupyter cannot be started. Error attempting to locate Jupyter: Running cells with 'Python 3.8.9 64-bit' requires notebook and jupyter package.\n",
      "Run the following command to install 'jupyter and notebook' into the Python environment. \n",
      "Command: 'python -m pip install jupyter notebook -U\n",
      "or\n",
      "conda install jupyter notebook -U'\n",
      "Click <a href='https://aka.ms/installJupyterForVSCode'>here</a> for more info."
     ]
    }
   ],
   "source": []
  }
 ],
 "metadata": {
  "kernelspec": {
   "display_name": "Python 3.10.5 64-bit",
   "language": "python",
   "name": "python3"
  },
  "language_info": {
   "codemirror_mode": {
    "name": "ipython",
    "version": 3
   },
   "file_extension": ".py",
   "mimetype": "text/x-python",
   "name": "python",
   "nbconvert_exporter": "python",
   "pygments_lexer": "ipython3",
   "version": "3.10.5"
  },
  "vscode": {
   "interpreter": {
    "hash": "aee8b7b246df8f9039afb4144a1f6fd8d2ca17a180786b69acc140d282b71a49"
   }
  }
 },
 "nbformat": 4,
 "nbformat_minor": 5
}
